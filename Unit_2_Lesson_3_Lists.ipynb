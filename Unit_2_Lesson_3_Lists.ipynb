{
  "nbformat": 4,
  "nbformat_minor": 0,
  "metadata": {
    "colab": {
      "name": "Unit 2 Lesson 3 - Lists",
      "provenance": [],
      "authorship_tag": "ABX9TyN0FBhy/Dne3Nufc7eNnF0e",
      "include_colab_link": true
    },
    "kernelspec": {
      "name": "python3",
      "display_name": "Python 3"
    }
  },
  "cells": [
    {
      "cell_type": "markdown",
      "metadata": {
        "id": "view-in-github",
        "colab_type": "text"
      },
      "source": [
        "<a href=\"https://colab.research.google.com/github/stephm15/Unit3_Lists/blob/main/Unit_2_Lesson_3_Lists.ipynb\" target=\"_parent\"><img src=\"https://colab.research.google.com/assets/colab-badge.svg\" alt=\"Open In Colab\"/></a>"
      ]
    },
    {
      "cell_type": "code",
      "metadata": {
        "colab": {
          "base_uri": "https://localhost:8080/"
        },
        "id": "04mzd31Ht8eA",
        "outputId": "99a96dde-7d83-4e87-f043-a505c2b453d5"
      },
      "source": [
        "Name = \"Stephanie Salarbux\"\r\n",
        "print(Name)\r\n",
        "FavShows = ['the big bang theory', 'ozark', 'eveybody loves raymond','king of queens','shark tank']\r\n",
        "print(FavShows)\r\n",
        "FavShows.sort()\r\n",
        "FavShows\r\n",
        "print(FavShows)\r\n",
        "FavShows = ['the big bang theory', 'ozark', 'eveybody loves raymond','king of queens','shark tank']\r\n",
        "print(FavShows)\r\n",
        "FavShows.sort(reverse=True)\r\n",
        "print(FavShows)\r\n",
        "len(FavShows)"
      ],
      "execution_count": 64,
      "outputs": [
        {
          "output_type": "stream",
          "text": [
            "Stephanie Salarbux\n",
            "['the big bang theory', 'ozark', 'eveybody loves raymond', 'king of queens', 'shark tank']\n",
            "['eveybody loves raymond', 'king of queens', 'ozark', 'shark tank', 'the big bang theory']\n",
            "['the big bang theory', 'ozark', 'eveybody loves raymond', 'king of queens', 'shark tank']\n",
            "['the big bang theory', 'shark tank', 'ozark', 'king of queens', 'eveybody loves raymond']\n"
          ],
          "name": "stdout"
        },
        {
          "output_type": "execute_result",
          "data": {
            "text/plain": [
              "5"
            ]
          },
          "metadata": {
            "tags": []
          },
          "execution_count": 64
        }
      ]
    }
  ]
}