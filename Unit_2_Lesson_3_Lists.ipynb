{
  "nbformat": 4,
  "nbformat_minor": 0,
  "metadata": {
    "colab": {
      "name": "Unit 2 Lesson 3 - Lists",
      "provenance": [],
      "authorship_tag": "ABX9TyOSfRuvcJ7VlenzRI9Yy0ls",
      "include_colab_link": true
    },
    "kernelspec": {
      "name": "python3",
      "display_name": "Python 3"
    }
  },
  "cells": [
    {
      "cell_type": "markdown",
      "metadata": {
        "id": "view-in-github",
        "colab_type": "text"
      },
      "source": [
        "<a href=\"https://colab.research.google.com/github/stephm15/Unit_2_lesson3_Lists/blob/main/Unit_2_Lesson_3_Lists.ipynb\" target=\"_parent\"><img src=\"https://colab.research.google.com/assets/colab-badge.svg\" alt=\"Open In Colab\"/></a>"
      ]
    },
    {
      "cell_type": "code",
      "metadata": {
        "colab": {
          "base_uri": "https://localhost:8080/"
        },
        "id": "04mzd31Ht8eA",
        "outputId": "57ba6170-9d22-47bc-e165-94ff881ab755"
      },
      "source": [
        "Name = \"Stephanie Salarbux\"\r\n",
        "print(Name)\r\n",
        "FavShows = ['the big bang theory', 'ozark', 'eveybody loves raymond','king of queens','shark tank']\r\n",
        "print(FavShows)\r\n",
        "FavShows\r\n",
        "print(sorted(FavShows))\r\n",
        "FavShows.sort()\r\n",
        "print(FavShows)\r\n",
        "FavShows = ['the big bang theory', 'ozark', 'eveybody loves raymond','king of queens','shark tank']\r\n",
        "print(FavShows)\r\n",
        "print(sorted(FavShows, reverse = True))\r\n",
        "len(FavShows)\r\n",
        "print(\"I have \" + str(len(FavShows)) + \" favorite shows!\" )"
      ],
      "execution_count": 122,
      "outputs": [
        {
          "output_type": "stream",
          "text": [
            "Stephanie Salarbux\n",
            "['the big bang theory', 'ozark', 'eveybody loves raymond', 'king of queens', 'shark tank']\n",
            "['eveybody loves raymond', 'king of queens', 'ozark', 'shark tank', 'the big bang theory']\n",
            "['eveybody loves raymond', 'king of queens', 'ozark', 'shark tank', 'the big bang theory']\n",
            "['the big bang theory', 'ozark', 'eveybody loves raymond', 'king of queens', 'shark tank']\n",
            "['the big bang theory', 'shark tank', 'ozark', 'king of queens', 'eveybody loves raymond']\n",
            "I have 5 favorite shows!\n"
          ],
          "name": "stdout"
        }
      ]
    }
  ]
}